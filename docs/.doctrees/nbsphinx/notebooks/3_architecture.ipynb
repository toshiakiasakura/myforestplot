{
 "cells": [
  {
   "cell_type": "markdown",
   "id": "8c70a50e-1cd0-4a93-89f6-92e2d3127211",
   "metadata": {},
   "source": [
    "# Usage"
   ]
  },
  {
   "cell_type": "markdown",
   "id": "8c17cdef-b150-4a3c-8137-9191b5bf6874",
   "metadata": {},
   "source": [
    "## Clearning tools \n",
    "MyForestplot prepares cleaning tools for preparing dataframe used for forestplot. These tools are mainly designed to use results of statsmodels results. "
   ]
  },
  {
   "cell_type": "code",
   "execution_count": 1,
   "id": "c650b469-dd5a-45c0-806a-ae945c9504af",
   "metadata": {},
   "outputs": [
    {
     "name": "stdout",
     "output_type": "stream",
     "text": [
      "Last updated: Wed Sep 07 2022\n",
      "\n",
      "Python implementation: CPython\n",
      "Python version       : 3.9.7\n",
      "IPython version      : 8.0.1\n",
      "\n",
      "graphviz: not installed\n",
      "\n",
      "statsmodels : 0.13.2\n",
      "matplotlib  : 3.5.3\n",
      "pandas      : 1.4.1\n",
      "numpy       : 1.21.5\n",
      "myforestplot: 0.1.6\n",
      "\n",
      "Watermark: 2.3.1\n",
      "\n"
     ]
    }
   ],
   "source": [
    "import pandas as pd\n",
    "import numpy as np\n",
    "import matplotlib.pyplot as plt\n",
    "%matplotlib inline\n",
    "import statsmodels.api as sm\n",
    "import statsmodels.formula.api as smf\n",
    "\n",
    "import myforestplot as mfp\n",
    "\n",
    "%load_ext autoreload\n",
    "%autoreload 2\n",
    "\n",
    "%load_ext watermark\n",
    "%watermark -n -u -v -iv -w -p graphviz"
   ]
  },
  {
   "cell_type": "code",
   "execution_count": 2,
   "id": "d9c3701e-d1d8-462e-be0e-d2eaf17e1adc",
   "metadata": {},
   "outputs": [
    {
     "name": "stdout",
     "output_type": "stream",
     "text": [
      "Optimization terminated successfully.\n",
      "         Current function value: 0.509889\n",
      "         Iterations 6\n"
     ]
    }
   ],
   "source": [
    "data = pd.read_csv(\"titanic.csv\")\n",
    "data = data[[\"survived\", \"pclass\", \"sex\", \"age\", \"embark_town\"]]\n",
    "data = data.dropna()\n",
    "res = smf.logit(\"survived ~ sex + age + embark_town\", data=data).fit()"
   ]
  },
  {
   "cell_type": "markdown",
   "id": "19e89cb4-79ec-4a3a-bb3f-cfe1d34987c6",
   "metadata": {},
   "source": [
    "###  statsmodels_pretty_result_dataframe\n",
    "This function converts statsmodelsresult into dataframe shape, adding number of observations for each category. "
   ]
  },
  {
   "cell_type": "code",
   "execution_count": 3,
   "id": "ac6283c0-3687-48d6-9f67-6e6ced380e48",
   "metadata": {},
   "outputs": [
    {
     "data": {
      "text/html": [
       "<div>\n",
       "<style scoped>\n",
       "    .dataframe tbody tr th:only-of-type {\n",
       "        vertical-align: middle;\n",
       "    }\n",
       "\n",
       "    .dataframe tbody tr th {\n",
       "        vertical-align: top;\n",
       "    }\n",
       "\n",
       "    .dataframe thead th {\n",
       "        text-align: right;\n",
       "    }\n",
       "</style>\n",
       "<table border=\"1\" class=\"dataframe\">\n",
       "  <thead>\n",
       "    <tr style=\"text-align: right;\">\n",
       "      <th></th>\n",
       "      <th>category</th>\n",
       "      <th>item</th>\n",
       "      <th>0</th>\n",
       "      <th>1</th>\n",
       "      <th>risk</th>\n",
       "      <th>nobs</th>\n",
       "      <th>risk_pretty</th>\n",
       "    </tr>\n",
       "  </thead>\n",
       "  <tbody>\n",
       "    <tr>\n",
       "      <th>3</th>\n",
       "      <td>age</td>\n",
       "      <td>age</td>\n",
       "      <td>0.979300</td>\n",
       "      <td>1.004771</td>\n",
       "      <td>0.991954</td>\n",
       "      <td>NaN</td>\n",
       "      <td>0.99 (0.98, 1.00)</td>\n",
       "    </tr>\n",
       "    <tr>\n",
       "      <th>0</th>\n",
       "      <td>sex</td>\n",
       "      <td>male</td>\n",
       "      <td>0.057848</td>\n",
       "      <td>0.122213</td>\n",
       "      <td>0.084082</td>\n",
       "      <td>453.0</td>\n",
       "      <td>0.08 (0.06, 0.12)</td>\n",
       "    </tr>\n",
       "    <tr>\n",
       "      <th>4</th>\n",
       "      <td>sex</td>\n",
       "      <td>female</td>\n",
       "      <td>NaN</td>\n",
       "      <td>NaN</td>\n",
       "      <td>NaN</td>\n",
       "      <td>259.0</td>\n",
       "      <td>Ref.</td>\n",
       "    </tr>\n",
       "    <tr>\n",
       "      <th>2</th>\n",
       "      <td>embark_town</td>\n",
       "      <td>Southampton</td>\n",
       "      <td>0.229654</td>\n",
       "      <td>0.581167</td>\n",
       "      <td>0.365332</td>\n",
       "      <td>554.0</td>\n",
       "      <td>0.37 (0.23, 0.58)</td>\n",
       "    </tr>\n",
       "    <tr>\n",
       "      <th>5</th>\n",
       "      <td>embark_town</td>\n",
       "      <td>Cherbourg</td>\n",
       "      <td>NaN</td>\n",
       "      <td>NaN</td>\n",
       "      <td>NaN</td>\n",
       "      <td>130.0</td>\n",
       "      <td>Ref.</td>\n",
       "    </tr>\n",
       "    <tr>\n",
       "      <th>1</th>\n",
       "      <td>embark_town</td>\n",
       "      <td>Queenstown</td>\n",
       "      <td>0.057027</td>\n",
       "      <td>0.464428</td>\n",
       "      <td>0.162742</td>\n",
       "      <td>28.0</td>\n",
       "      <td>0.16 (0.06, 0.46)</td>\n",
       "    </tr>\n",
       "  </tbody>\n",
       "</table>\n",
       "</div>"
      ],
      "text/plain": [
       "      category         item         0         1      risk   nobs  \\\n",
       "3          age          age  0.979300  1.004771  0.991954    NaN   \n",
       "0          sex         male  0.057848  0.122213  0.084082  453.0   \n",
       "4          sex       female       NaN       NaN       NaN  259.0   \n",
       "2  embark_town  Southampton  0.229654  0.581167  0.365332  554.0   \n",
       "5  embark_town    Cherbourg       NaN       NaN       NaN  130.0   \n",
       "1  embark_town   Queenstown  0.057027  0.464428  0.162742   28.0   \n",
       "\n",
       "         risk_pretty  \n",
       "3  0.99 (0.98, 1.00)  \n",
       "0  0.08 (0.06, 0.12)  \n",
       "4               Ref.  \n",
       "2  0.37 (0.23, 0.58)  \n",
       "5               Ref.  \n",
       "1  0.16 (0.06, 0.46)  "
      ]
     },
     "execution_count": 3,
     "metadata": {},
     "output_type": "execute_result"
    }
   ],
   "source": [
    "order = [\"age\", \"sex\", \"embark_town\"]\n",
    "cont_cols = [\"age\"]\n",
    "item_order = {\"embark_town\": ['Southampton', 'Cherbourg', 'Queenstown']}\n",
    "df = mfp.statsmodels_pretty_result_dataframe(data, res,  \n",
    "                                             order=order,\n",
    "                                             cont_cols=cont_cols,\n",
    "                                             item_order=item_order,\n",
    "                                             fml=\".3f\", \n",
    "                                             )\n",
    "df"
   ]
  },
  {
   "cell_type": "markdown",
   "id": "781e46cc-ac4d-4122-9eb4-086a1b814c62",
   "metadata": {},
   "source": [
    "\"statsmodels_pretty_result_dataframe\" is made up of 5 steps.\n",
    "1. Convert statasmodels results into dataframe."
   ]
  },
  {
   "cell_type": "code",
   "execution_count": 4,
   "id": "0873a676-d6df-4f9b-b261-d2dc4f7fa3b0",
   "metadata": {},
   "outputs": [
    {
     "data": {
      "text/html": [
       "<div>\n",
       "<style scoped>\n",
       "    .dataframe tbody tr th:only-of-type {\n",
       "        vertical-align: middle;\n",
       "    }\n",
       "\n",
       "    .dataframe tbody tr th {\n",
       "        vertical-align: top;\n",
       "    }\n",
       "\n",
       "    .dataframe thead th {\n",
       "        text-align: right;\n",
       "    }\n",
       "</style>\n",
       "<table border=\"1\" class=\"dataframe\">\n",
       "  <thead>\n",
       "    <tr style=\"text-align: right;\">\n",
       "      <th></th>\n",
       "      <th>category</th>\n",
       "      <th>item</th>\n",
       "      <th>0</th>\n",
       "      <th>1</th>\n",
       "      <th>risk</th>\n",
       "    </tr>\n",
       "  </thead>\n",
       "  <tbody>\n",
       "    <tr>\n",
       "      <th>1</th>\n",
       "      <td>sex</td>\n",
       "      <td>male</td>\n",
       "      <td>0.057848</td>\n",
       "      <td>0.122213</td>\n",
       "      <td>0.084082</td>\n",
       "    </tr>\n",
       "    <tr>\n",
       "      <th>2</th>\n",
       "      <td>embark_town</td>\n",
       "      <td>Queenstown</td>\n",
       "      <td>0.057027</td>\n",
       "      <td>0.464428</td>\n",
       "      <td>0.162742</td>\n",
       "    </tr>\n",
       "    <tr>\n",
       "      <th>3</th>\n",
       "      <td>embark_town</td>\n",
       "      <td>Southampton</td>\n",
       "      <td>0.229654</td>\n",
       "      <td>0.581167</td>\n",
       "      <td>0.365332</td>\n",
       "    </tr>\n",
       "    <tr>\n",
       "      <th>4</th>\n",
       "      <td>age</td>\n",
       "      <td>age</td>\n",
       "      <td>0.979300</td>\n",
       "      <td>1.004771</td>\n",
       "      <td>0.991954</td>\n",
       "    </tr>\n",
       "  </tbody>\n",
       "</table>\n",
       "</div>"
      ],
      "text/plain": [
       "      category         item         0         1      risk\n",
       "1          sex         male  0.057848  0.122213  0.084082\n",
       "2  embark_town   Queenstown  0.057027  0.464428  0.162742\n",
       "3  embark_town  Southampton  0.229654  0.581167  0.365332\n",
       "4          age          age  0.979300  1.004771  0.991954"
      ]
     },
     "execution_count": 4,
     "metadata": {},
     "output_type": "execute_result"
    }
   ],
   "source": [
    "df_res = mfp.statsmodels_fitting_result_dataframe(res, alpha=0.05, accessor=np.exp)\n",
    "df_res"
   ]
  },
  {
   "cell_type": "markdown",
   "id": "c8b91973-e0e2-419f-908e-20046e048111",
   "metadata": {},
   "source": [
    "If you want to obtain raw results, set accessor as lambda x: x "
   ]
  },
  {
   "cell_type": "code",
   "execution_count": 5,
   "id": "0a902979-36ff-4345-a10c-c27b41491b93",
   "metadata": {},
   "outputs": [
    {
     "data": {
      "text/html": [
       "<div>\n",
       "<style scoped>\n",
       "    .dataframe tbody tr th:only-of-type {\n",
       "        vertical-align: middle;\n",
       "    }\n",
       "\n",
       "    .dataframe tbody tr th {\n",
       "        vertical-align: top;\n",
       "    }\n",
       "\n",
       "    .dataframe thead th {\n",
       "        text-align: right;\n",
       "    }\n",
       "</style>\n",
       "<table border=\"1\" class=\"dataframe\">\n",
       "  <thead>\n",
       "    <tr style=\"text-align: right;\">\n",
       "      <th></th>\n",
       "      <th>category</th>\n",
       "      <th>item</th>\n",
       "      <th>0</th>\n",
       "      <th>1</th>\n",
       "      <th>risk</th>\n",
       "    </tr>\n",
       "  </thead>\n",
       "  <tbody>\n",
       "    <tr>\n",
       "      <th>1</th>\n",
       "      <td>sex</td>\n",
       "      <td>male</td>\n",
       "      <td>-2.849937</td>\n",
       "      <td>-2.101986</td>\n",
       "      <td>-2.475962</td>\n",
       "    </tr>\n",
       "    <tr>\n",
       "      <th>2</th>\n",
       "      <td>embark_town</td>\n",
       "      <td>Queenstown</td>\n",
       "      <td>-2.864233</td>\n",
       "      <td>-0.766950</td>\n",
       "      <td>-1.815592</td>\n",
       "    </tr>\n",
       "    <tr>\n",
       "      <th>3</th>\n",
       "      <td>embark_town</td>\n",
       "      <td>Southampton</td>\n",
       "      <td>-1.471180</td>\n",
       "      <td>-0.542717</td>\n",
       "      <td>-1.006949</td>\n",
       "    </tr>\n",
       "    <tr>\n",
       "      <th>4</th>\n",
       "      <td>age</td>\n",
       "      <td>age</td>\n",
       "      <td>-0.020917</td>\n",
       "      <td>0.004760</td>\n",
       "      <td>-0.008079</td>\n",
       "    </tr>\n",
       "  </tbody>\n",
       "</table>\n",
       "</div>"
      ],
      "text/plain": [
       "      category         item         0         1      risk\n",
       "1          sex         male -2.849937 -2.101986 -2.475962\n",
       "2  embark_town   Queenstown -2.864233 -0.766950 -1.815592\n",
       "3  embark_town  Southampton -1.471180 -0.542717 -1.006949\n",
       "4          age          age -0.020917  0.004760 -0.008079"
      ]
     },
     "execution_count": 5,
     "metadata": {},
     "output_type": "execute_result"
    }
   ],
   "source": [
    "df_res2 = mfp.statsmodels_fitting_result_dataframe(res, alpha=0.05, accessor=lambda x: x)\n",
    "df_res2"
   ]
  },
  {
   "cell_type": "markdown",
   "id": "ba577f45-731d-4516-b341-ff33066a5e5b",
   "metadata": {},
   "source": [
    "2. Obtain number of observations for each category variable. "
   ]
  },
  {
   "cell_type": "code",
   "execution_count": 6,
   "id": "a24b39c0-d2e6-478a-8fe6-e142380bc861",
   "metadata": {},
   "outputs": [
    {
     "data": {
      "text/html": [
       "<div>\n",
       "<style scoped>\n",
       "    .dataframe tbody tr th:only-of-type {\n",
       "        vertical-align: middle;\n",
       "    }\n",
       "\n",
       "    .dataframe tbody tr th {\n",
       "        vertical-align: top;\n",
       "    }\n",
       "\n",
       "    .dataframe thead th {\n",
       "        text-align: right;\n",
       "    }\n",
       "</style>\n",
       "<table border=\"1\" class=\"dataframe\">\n",
       "  <thead>\n",
       "    <tr style=\"text-align: right;\">\n",
       "      <th></th>\n",
       "      <th>category</th>\n",
       "      <th>item</th>\n",
       "      <th>nobs</th>\n",
       "    </tr>\n",
       "  </thead>\n",
       "  <tbody>\n",
       "    <tr>\n",
       "      <th>0</th>\n",
       "      <td>sex</td>\n",
       "      <td>male</td>\n",
       "      <td>453</td>\n",
       "    </tr>\n",
       "    <tr>\n",
       "      <th>1</th>\n",
       "      <td>sex</td>\n",
       "      <td>female</td>\n",
       "      <td>259</td>\n",
       "    </tr>\n",
       "    <tr>\n",
       "      <th>2</th>\n",
       "      <td>embark_town</td>\n",
       "      <td>Southampton</td>\n",
       "      <td>554</td>\n",
       "    </tr>\n",
       "    <tr>\n",
       "      <th>3</th>\n",
       "      <td>embark_town</td>\n",
       "      <td>Cherbourg</td>\n",
       "      <td>130</td>\n",
       "    </tr>\n",
       "    <tr>\n",
       "      <th>4</th>\n",
       "      <td>embark_town</td>\n",
       "      <td>Queenstown</td>\n",
       "      <td>28</td>\n",
       "    </tr>\n",
       "  </tbody>\n",
       "</table>\n",
       "</div>"
      ],
      "text/plain": [
       "      category         item  nobs\n",
       "0          sex         male   453\n",
       "1          sex       female   259\n",
       "2  embark_town  Southampton   554\n",
       "3  embark_town    Cherbourg   130\n",
       "4  embark_town   Queenstown    28"
      ]
     },
     "execution_count": 6,
     "metadata": {},
     "output_type": "execute_result"
    }
   ],
   "source": [
    "cate_cols = [c for c in order if not c in cont_cols]\n",
    "df_nobs = mfp.count_category_frequency(data, cate_cols)\n",
    "df_nobs"
   ]
  },
  {
   "cell_type": "markdown",
   "id": "6e1810e7-4675-416b-b714-2987cf9e2414",
   "metadata": {},
   "source": [
    "3. Merge statsmodels resutl and dataframe of number of observations."
   ]
  },
  {
   "cell_type": "code",
   "execution_count": 7,
   "id": "f34a9970-8232-4587-b798-48124c28b2c7",
   "metadata": {},
   "outputs": [
    {
     "data": {
      "text/html": [
       "<div>\n",
       "<style scoped>\n",
       "    .dataframe tbody tr th:only-of-type {\n",
       "        vertical-align: middle;\n",
       "    }\n",
       "\n",
       "    .dataframe tbody tr th {\n",
       "        vertical-align: top;\n",
       "    }\n",
       "\n",
       "    .dataframe thead th {\n",
       "        text-align: right;\n",
       "    }\n",
       "</style>\n",
       "<table border=\"1\" class=\"dataframe\">\n",
       "  <thead>\n",
       "    <tr style=\"text-align: right;\">\n",
       "      <th></th>\n",
       "      <th>category</th>\n",
       "      <th>item</th>\n",
       "      <th>0</th>\n",
       "      <th>1</th>\n",
       "      <th>risk</th>\n",
       "      <th>nobs</th>\n",
       "    </tr>\n",
       "  </thead>\n",
       "  <tbody>\n",
       "    <tr>\n",
       "      <th>0</th>\n",
       "      <td>sex</td>\n",
       "      <td>male</td>\n",
       "      <td>0.057848</td>\n",
       "      <td>0.122213</td>\n",
       "      <td>0.084082</td>\n",
       "      <td>453.0</td>\n",
       "    </tr>\n",
       "    <tr>\n",
       "      <th>1</th>\n",
       "      <td>embark_town</td>\n",
       "      <td>Queenstown</td>\n",
       "      <td>0.057027</td>\n",
       "      <td>0.464428</td>\n",
       "      <td>0.162742</td>\n",
       "      <td>28.0</td>\n",
       "    </tr>\n",
       "    <tr>\n",
       "      <th>2</th>\n",
       "      <td>embark_town</td>\n",
       "      <td>Southampton</td>\n",
       "      <td>0.229654</td>\n",
       "      <td>0.581167</td>\n",
       "      <td>0.365332</td>\n",
       "      <td>554.0</td>\n",
       "    </tr>\n",
       "    <tr>\n",
       "      <th>3</th>\n",
       "      <td>age</td>\n",
       "      <td>age</td>\n",
       "      <td>0.979300</td>\n",
       "      <td>1.004771</td>\n",
       "      <td>0.991954</td>\n",
       "      <td>NaN</td>\n",
       "    </tr>\n",
       "    <tr>\n",
       "      <th>4</th>\n",
       "      <td>sex</td>\n",
       "      <td>female</td>\n",
       "      <td>NaN</td>\n",
       "      <td>NaN</td>\n",
       "      <td>NaN</td>\n",
       "      <td>259.0</td>\n",
       "    </tr>\n",
       "    <tr>\n",
       "      <th>5</th>\n",
       "      <td>embark_town</td>\n",
       "      <td>Cherbourg</td>\n",
       "      <td>NaN</td>\n",
       "      <td>NaN</td>\n",
       "      <td>NaN</td>\n",
       "      <td>130.0</td>\n",
       "    </tr>\n",
       "  </tbody>\n",
       "</table>\n",
       "</div>"
      ],
      "text/plain": [
       "      category         item         0         1      risk   nobs\n",
       "0          sex         male  0.057848  0.122213  0.084082  453.0\n",
       "1  embark_town   Queenstown  0.057027  0.464428  0.162742   28.0\n",
       "2  embark_town  Southampton  0.229654  0.581167  0.365332  554.0\n",
       "3          age          age  0.979300  1.004771  0.991954    NaN\n",
       "4          sex       female       NaN       NaN       NaN  259.0\n",
       "5  embark_town    Cherbourg       NaN       NaN       NaN  130.0"
      ]
     },
     "execution_count": 7,
     "metadata": {},
     "output_type": "execute_result"
    }
   ],
   "source": [
    "df_sum = pd.merge(df_res, df_nobs, on=[\"category\", \"item\"], validate=\"1:1\", how=\"outer\")\n",
    "df_sum"
   ]
  },
  {
   "cell_type": "markdown",
   "id": "f65d44ca-1064-46ff-963c-4a49af3cf74c",
   "metadata": {},
   "source": [
    "4. Sort items."
   ]
  },
  {
   "cell_type": "code",
   "execution_count": 8,
   "id": "30b385d7-c02d-4e75-8ea5-c5c449221ced",
   "metadata": {},
   "outputs": [
    {
     "data": {
      "text/html": [
       "<div>\n",
       "<style scoped>\n",
       "    .dataframe tbody tr th:only-of-type {\n",
       "        vertical-align: middle;\n",
       "    }\n",
       "\n",
       "    .dataframe tbody tr th {\n",
       "        vertical-align: top;\n",
       "    }\n",
       "\n",
       "    .dataframe thead th {\n",
       "        text-align: right;\n",
       "    }\n",
       "</style>\n",
       "<table border=\"1\" class=\"dataframe\">\n",
       "  <thead>\n",
       "    <tr style=\"text-align: right;\">\n",
       "      <th></th>\n",
       "      <th>category</th>\n",
       "      <th>item</th>\n",
       "      <th>0</th>\n",
       "      <th>1</th>\n",
       "      <th>risk</th>\n",
       "      <th>nobs</th>\n",
       "    </tr>\n",
       "  </thead>\n",
       "  <tbody>\n",
       "    <tr>\n",
       "      <th>3</th>\n",
       "      <td>age</td>\n",
       "      <td>age</td>\n",
       "      <td>0.979300</td>\n",
       "      <td>1.004771</td>\n",
       "      <td>0.991954</td>\n",
       "      <td>NaN</td>\n",
       "    </tr>\n",
       "    <tr>\n",
       "      <th>0</th>\n",
       "      <td>sex</td>\n",
       "      <td>male</td>\n",
       "      <td>0.057848</td>\n",
       "      <td>0.122213</td>\n",
       "      <td>0.084082</td>\n",
       "      <td>453.0</td>\n",
       "    </tr>\n",
       "    <tr>\n",
       "      <th>4</th>\n",
       "      <td>sex</td>\n",
       "      <td>female</td>\n",
       "      <td>NaN</td>\n",
       "      <td>NaN</td>\n",
       "      <td>NaN</td>\n",
       "      <td>259.0</td>\n",
       "    </tr>\n",
       "    <tr>\n",
       "      <th>2</th>\n",
       "      <td>embark_town</td>\n",
       "      <td>Southampton</td>\n",
       "      <td>0.229654</td>\n",
       "      <td>0.581167</td>\n",
       "      <td>0.365332</td>\n",
       "      <td>554.0</td>\n",
       "    </tr>\n",
       "    <tr>\n",
       "      <th>5</th>\n",
       "      <td>embark_town</td>\n",
       "      <td>Cherbourg</td>\n",
       "      <td>NaN</td>\n",
       "      <td>NaN</td>\n",
       "      <td>NaN</td>\n",
       "      <td>130.0</td>\n",
       "    </tr>\n",
       "    <tr>\n",
       "      <th>1</th>\n",
       "      <td>embark_town</td>\n",
       "      <td>Queenstown</td>\n",
       "      <td>0.057027</td>\n",
       "      <td>0.464428</td>\n",
       "      <td>0.162742</td>\n",
       "      <td>28.0</td>\n",
       "    </tr>\n",
       "  </tbody>\n",
       "</table>\n",
       "</div>"
      ],
      "text/plain": [
       "      category         item         0         1      risk   nobs\n",
       "3          age          age  0.979300  1.004771  0.991954    NaN\n",
       "0          sex         male  0.057848  0.122213  0.084082  453.0\n",
       "4          sex       female       NaN       NaN       NaN  259.0\n",
       "2  embark_town  Southampton  0.229654  0.581167  0.365332  554.0\n",
       "5  embark_town    Cherbourg       NaN       NaN       NaN  130.0\n",
       "1  embark_town   Queenstown  0.057027  0.464428  0.162742   28.0"
      ]
     },
     "execution_count": 8,
     "metadata": {},
     "output_type": "execute_result"
    }
   ],
   "source": [
    "df_sum = mfp.sort_category_item(df_sum, order=order, item_order=item_order)\n",
    "df_sum"
   ]
  },
  {
   "cell_type": "markdown",
   "id": "d5f87e07-593b-41b5-91f2-72ade7a511c1",
   "metadata": {},
   "source": [
    "5. Add pretty styles of risk results. "
   ]
  },
  {
   "cell_type": "code",
   "execution_count": 9,
   "id": "ae00dc91-9113-451e-b680-746a1f1ed443",
   "metadata": {},
   "outputs": [
    {
     "data": {
      "text/html": [
       "<div>\n",
       "<style scoped>\n",
       "    .dataframe tbody tr th:only-of-type {\n",
       "        vertical-align: middle;\n",
       "    }\n",
       "\n",
       "    .dataframe tbody tr th {\n",
       "        vertical-align: top;\n",
       "    }\n",
       "\n",
       "    .dataframe thead th {\n",
       "        text-align: right;\n",
       "    }\n",
       "</style>\n",
       "<table border=\"1\" class=\"dataframe\">\n",
       "  <thead>\n",
       "    <tr style=\"text-align: right;\">\n",
       "      <th></th>\n",
       "      <th>category</th>\n",
       "      <th>item</th>\n",
       "      <th>0</th>\n",
       "      <th>1</th>\n",
       "      <th>risk</th>\n",
       "      <th>nobs</th>\n",
       "      <th>risk_pretty</th>\n",
       "    </tr>\n",
       "  </thead>\n",
       "  <tbody>\n",
       "    <tr>\n",
       "      <th>3</th>\n",
       "      <td>age</td>\n",
       "      <td>age</td>\n",
       "      <td>0.979300</td>\n",
       "      <td>1.004771</td>\n",
       "      <td>0.991954</td>\n",
       "      <td>NaN</td>\n",
       "      <td>0.99 (0.98, 1.00)</td>\n",
       "    </tr>\n",
       "    <tr>\n",
       "      <th>0</th>\n",
       "      <td>sex</td>\n",
       "      <td>male</td>\n",
       "      <td>0.057848</td>\n",
       "      <td>0.122213</td>\n",
       "      <td>0.084082</td>\n",
       "      <td>453.0</td>\n",
       "      <td>0.08 (0.06, 0.12)</td>\n",
       "    </tr>\n",
       "    <tr>\n",
       "      <th>4</th>\n",
       "      <td>sex</td>\n",
       "      <td>female</td>\n",
       "      <td>NaN</td>\n",
       "      <td>NaN</td>\n",
       "      <td>NaN</td>\n",
       "      <td>259.0</td>\n",
       "      <td>Ref.</td>\n",
       "    </tr>\n",
       "    <tr>\n",
       "      <th>2</th>\n",
       "      <td>embark_town</td>\n",
       "      <td>Southampton</td>\n",
       "      <td>0.229654</td>\n",
       "      <td>0.581167</td>\n",
       "      <td>0.365332</td>\n",
       "      <td>554.0</td>\n",
       "      <td>0.37 (0.23, 0.58)</td>\n",
       "    </tr>\n",
       "    <tr>\n",
       "      <th>5</th>\n",
       "      <td>embark_town</td>\n",
       "      <td>Cherbourg</td>\n",
       "      <td>NaN</td>\n",
       "      <td>NaN</td>\n",
       "      <td>NaN</td>\n",
       "      <td>130.0</td>\n",
       "      <td>Ref.</td>\n",
       "    </tr>\n",
       "    <tr>\n",
       "      <th>1</th>\n",
       "      <td>embark_town</td>\n",
       "      <td>Queenstown</td>\n",
       "      <td>0.057027</td>\n",
       "      <td>0.464428</td>\n",
       "      <td>0.162742</td>\n",
       "      <td>28.0</td>\n",
       "      <td>0.16 (0.06, 0.46)</td>\n",
       "    </tr>\n",
       "  </tbody>\n",
       "</table>\n",
       "</div>"
      ],
      "text/plain": [
       "      category         item         0         1      risk   nobs  \\\n",
       "3          age          age  0.979300  1.004771  0.991954    NaN   \n",
       "0          sex         male  0.057848  0.122213  0.084082  453.0   \n",
       "4          sex       female       NaN       NaN       NaN  259.0   \n",
       "2  embark_town  Southampton  0.229654  0.581167  0.365332  554.0   \n",
       "5  embark_town    Cherbourg       NaN       NaN       NaN  130.0   \n",
       "1  embark_town   Queenstown  0.057027  0.464428  0.162742   28.0   \n",
       "\n",
       "         risk_pretty  \n",
       "3  0.99 (0.98, 1.00)  \n",
       "0  0.08 (0.06, 0.12)  \n",
       "4               Ref.  \n",
       "2  0.37 (0.23, 0.58)  \n",
       "5               Ref.  \n",
       "1  0.16 (0.06, 0.46)  "
      ]
     },
     "execution_count": 9,
     "metadata": {},
     "output_type": "execute_result"
    }
   ],
   "source": [
    "df_sum[\"risk_pretty\"] = mfp.add_pretty_risk_column(df_sum,\n",
    "                                                   risk=\"risk\",\n",
    "                                                   lower=0,\n",
    "                                                   upper=1,\n",
    "                                                   fml=\".2f\"\n",
    "                                                   )\n",
    "df_sum"
   ]
  },
  {
   "cell_type": "markdown",
   "id": "b0bcdaa7-2d6f-4bfb-8bfe-3f038dcaf962",
   "metadata": {},
   "source": [
    "## BaseForestplot \n",
    "The following is an illustration of how myforestplot works.  "
   ]
  },
  {
   "cell_type": "code",
   "execution_count": 10,
   "id": "fd5c89b4-4dc9-4961-826a-1610989c5ef0",
   "metadata": {},
   "outputs": [],
   "source": [
    "df = df_sum.copy()"
   ]
  },
  {
   "cell_type": "code",
   "execution_count": 11,
   "id": "49aa02f4-3e99-4b40-9c75-174168ff0f95",
   "metadata": {},
   "outputs": [
    {
     "data": {
      "image/png": "[encoded data removed]",
      "text/plain": [
       "<Figure size 1050x450 with 2 Axes>"
      ]
     },
     "metadata": {},
     "output_type": "display_data"
    }
   ],
   "source": [
    "plt.rcParams[\"font.size\"] = 8\n",
    "fp = mfp.BaseForestplot(ratio=(8,3), dpi=150, figsize=(7,3), df=df)\n",
    "fp.errorbar(errorbar_kwds=None)\n",
    "fp.ax2.set_xlabel(\"OR\")\n",
    "fp.ax2.axvline(x=1, ymin=0, ymax=1.0, color=\"black\", alpha=0.5)\n",
    "fp.embed_strings(\"risk_pretty\", 0.5, header=\"OR (95% CI)\")\n",
    "\n",
    "plt.show()"
   ]
  },
  {
   "cell_type": "markdown",
   "id": "d21896ed-35b5-4adc-8529-e5b78be909e0",
   "metadata": {},
   "source": [
    "BaseForestplot uses Gridspect to create 2 axes. One is for text, and one is for errorbar plot. To draw original axis ticks and labels for two axes."
   ]
  },
  {
   "cell_type": "code",
   "execution_count": 12,
   "id": "47d3db6f-1a0e-45de-9f51-82662d20f7ad",
   "metadata": {},
   "outputs": [
    {
     "data": {
      "image/png": "[encoded data removed]",
      "text/plain": [
       "<Figure size 1050x450 with 2 Axes>"
      ]
     },
     "metadata": {},
     "output_type": "display_data"
    }
   ],
   "source": [
    "plt.rcParams[\"font.size\"] = 8\n",
    "fp = mfp.BaseForestplot(ratio=(8,3), dpi=150, figsize=(7,3), df=df, \n",
    "                        yticks_show=True, \n",
    "                        yticklabels_show=True, \n",
    "                        xticks_show=True, \n",
    "                        text_axis_off=False)\n",
    "fp.errorbar(errorbar_kwds=None)\n",
    "fp.ax2.set_xlabel(\"OR\")\n",
    "fp.ax2.axvline(x=1, ymin=0, ymax=1.0, color=\"black\", alpha=0.5)\n",
    "fp.embed_strings(\"risk_pretty\", 0.5, header=\"OR (95% CI)\")\n",
    "\n",
    "plt.show()"
   ]
  },
  {
   "cell_type": "markdown",
   "id": "aab207ed-c390-4912-8111-4ce03e2ecdba",
   "metadata": {},
   "source": [
    "Originally, two axes shares yaxis, ranging from minus (number of plots - 1) to 0. For the text part axis, x axis ranges from 0 to one, and embed_strings just places text in this field.  \n",
    "So we have to arrange x position of texts manually to draw beautiful figures. However, this packages just provide basic functionaly, meaning much customizability to draw forestplot based on your preferences."
   ]
  },
  {
   "cell_type": "markdown",
   "id": "5d280c5d-d843-4b34-8a77-13083221babe",
   "metadata": {},
   "source": [
    "Also see Gallery section to know what kind of designs are available.  "
   ]
  },
  {
   "cell_type": "code",
   "execution_count": null,
   "id": "1e362f30-5c43-4b80-bea7-2ddffd473703",
   "metadata": {},
   "outputs": [],
   "source": []
  }
 ],
 "metadata": {
  "kernelspec": {
   "display_name": "Python 3 (ipykernel)",
   "language": "python",
   "name": "python3"
  },
  "language_info": {
   "codemirror_mode": {
    "name": "ipython",
    "version": 3
   },
   "file_extension": ".py",
   "mimetype": "text/x-python",
   "name": "python",
   "nbconvert_exporter": "python",
   "pygments_lexer": "ipython3",
   "version": "3.9.7"
  }
 },
 "nbformat": 4,
 "nbformat_minor": 5
}
