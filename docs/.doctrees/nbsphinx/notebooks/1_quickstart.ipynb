{
 "cells": [
  {
   "cell_type": "markdown",
   "id": "67b48c21-1fc3-4be7-ae4b-e4c2a75aaaf7",
   "metadata": {},
   "source": [
    "# Quickstart"
   ]
  },
  {
   "cell_type": "code",
   "execution_count": 1,
   "id": "1dbe5778-ec37-4e3c-8f57-085dcf6051c1",
   "metadata": {},
   "outputs": [
    {
     "name": "stdout",
     "output_type": "stream",
     "text": [
      "Last updated: Tue Sep 06 2022\n",
      "\n",
      "Python implementation: CPython\n",
      "Python version       : 3.9.7\n",
      "IPython version      : 8.0.1\n",
      "\n",
      "graphviz: not installed\n",
      "\n",
      "statsmodels : 0.13.2\n",
      "numpy       : 1.21.5\n",
      "pandas      : 1.4.1\n",
      "matplotlib  : 3.5.1\n",
      "myforestplot: 0.1.3\n",
      "\n",
      "Watermark: 2.3.1\n",
      "\n"
     ]
    }
   ],
   "source": [
    "from typing import Union, Optional, List, Dict, Tuple, Any\n",
    "import pandas as pd\n",
    "import numpy as np\n",
    "import matplotlib.pyplot as plt\n",
    "%matplotlib inline\n",
    "import statsmodels.api as sm\n",
    "import statsmodels.formula.api as smf\n",
    "\n",
    "import myforestplot as mfp\n",
    "\n",
    "%load_ext watermark\n",
    "%watermark -n -u -v -iv -w -p graphviz"
   ]
  },
  {
   "cell_type": "markdown",
   "id": "b6f1f90f-416e-478c-a7ce-9063e4bc9c18",
   "metadata": {},
   "source": [
    "## Create pretty statsmodels result dataframe\n",
    "titanic data can be downloaded from https://raw.githubusercontent.com/mwaskom/seaborn-data/master/titanic.csv."
   ]
  },
  {
   "cell_type": "code",
   "execution_count": 2,
   "id": "2981f7f3-d1aa-4aac-8e79-9136deae5f3f",
   "metadata": {},
   "outputs": [],
   "source": [
    "titanic = pd.read_csv(\"titanic.csv\")\n",
    "titanic = titanic[[\"survived\", \"pclass\", \"sex\", \"age\", \"embark_town\"]]\n",
    "titanic = titanic.dropna()"
   ]
  },
  {
   "cell_type": "code",
   "execution_count": 3,
   "id": "1a30bcab-4850-4838-a76a-3dc433259b22",
   "metadata": {},
   "outputs": [
    {
     "name": "stdout",
     "output_type": "stream",
     "text": [
      "Optimization terminated successfully.\n",
      "         Current function value: 0.509889\n",
      "         Iterations 6\n"
     ]
    }
   ],
   "source": [
    "res = smf.logit(\"survived ~ sex + age + embark_town\", data=titanic).fit()"
   ]
  },
  {
   "cell_type": "code",
   "execution_count": 4,
   "id": "8e810fe5-876c-46e6-8a18-abcdcab1c78d",
   "metadata": {},
   "outputs": [
    {
     "data": {
      "text/html": [
       "<table class=\"simpletable\">\n",
       "<caption>Logit Regression Results</caption>\n",
       "<tr>\n",
       "  <th>Dep. Variable:</th>       <td>survived</td>     <th>  No. Observations:  </th>  <td>   712</td>  \n",
       "</tr>\n",
       "<tr>\n",
       "  <th>Model:</th>                 <td>Logit</td>      <th>  Df Residuals:      </th>  <td>   707</td>  \n",
       "</tr>\n",
       "<tr>\n",
       "  <th>Method:</th>                 <td>MLE</td>       <th>  Df Model:          </th>  <td>     4</td>  \n",
       "</tr>\n",
       "<tr>\n",
       "  <th>Date:</th>            <td>Tue, 06 Sep 2022</td> <th>  Pseudo R-squ.:     </th>  <td>0.2444</td>  \n",
       "</tr>\n",
       "<tr>\n",
       "  <th>Time:</th>                <td>12:54:23</td>     <th>  Log-Likelihood:    </th> <td> -363.04</td> \n",
       "</tr>\n",
       "<tr>\n",
       "  <th>converged:</th>             <td>True</td>       <th>  LL-Null:           </th> <td> -480.45</td> \n",
       "</tr>\n",
       "<tr>\n",
       "  <th>Covariance Type:</th>     <td>nonrobust</td>    <th>  LLR p-value:       </th> <td>1.209e-49</td>\n",
       "</tr>\n",
       "</table>\n",
       "<table class=\"simpletable\">\n",
       "<tr>\n",
       "               <td></td>                 <th>coef</th>     <th>std err</th>      <th>z</th>      <th>P>|z|</th>  <th>[0.025</th>    <th>0.975]</th>  \n",
       "</tr>\n",
       "<tr>\n",
       "  <th>Intercept</th>                  <td>    2.2046</td> <td>    0.322</td> <td>    6.851</td> <td> 0.000</td> <td>    1.574</td> <td>    2.835</td>\n",
       "</tr>\n",
       "<tr>\n",
       "  <th>sex[T.male]</th>                <td>   -2.4760</td> <td>    0.191</td> <td>  -12.976</td> <td> 0.000</td> <td>   -2.850</td> <td>   -2.102</td>\n",
       "</tr>\n",
       "<tr>\n",
       "  <th>embark_town[T.Queenstown]</th>  <td>   -1.8156</td> <td>    0.535</td> <td>   -3.393</td> <td> 0.001</td> <td>   -2.864</td> <td>   -0.767</td>\n",
       "</tr>\n",
       "<tr>\n",
       "  <th>embark_town[T.Southampton]</th> <td>   -1.0069</td> <td>    0.237</td> <td>   -4.251</td> <td> 0.000</td> <td>   -1.471</td> <td>   -0.543</td>\n",
       "</tr>\n",
       "<tr>\n",
       "  <th>age</th>                        <td>   -0.0081</td> <td>    0.007</td> <td>   -1.233</td> <td> 0.217</td> <td>   -0.021</td> <td>    0.005</td>\n",
       "</tr>\n",
       "</table>"
      ],
      "text/plain": [
       "<class 'statsmodels.iolib.summary.Summary'>\n",
       "\"\"\"\n",
       "                           Logit Regression Results                           \n",
       "==============================================================================\n",
       "Dep. Variable:               survived   No. Observations:                  712\n",
       "Model:                          Logit   Df Residuals:                      707\n",
       "Method:                           MLE   Df Model:                            4\n",
       "Date:                Tue, 06 Sep 2022   Pseudo R-squ.:                  0.2444\n",
       "Time:                        12:54:23   Log-Likelihood:                -363.04\n",
       "converged:                       True   LL-Null:                       -480.45\n",
       "Covariance Type:            nonrobust   LLR p-value:                 1.209e-49\n",
       "==============================================================================================\n",
       "                                 coef    std err          z      P>|z|      [0.025      0.975]\n",
       "----------------------------------------------------------------------------------------------\n",
       "Intercept                      2.2046      0.322      6.851      0.000       1.574       2.835\n",
       "sex[T.male]                   -2.4760      0.191    -12.976      0.000      -2.850      -2.102\n",
       "embark_town[T.Queenstown]     -1.8156      0.535     -3.393      0.001      -2.864      -0.767\n",
       "embark_town[T.Southampton]    -1.0069      0.237     -4.251      0.000      -1.471      -0.543\n",
       "age                           -0.0081      0.007     -1.233      0.217      -0.021       0.005\n",
       "==============================================================================================\n",
       "\"\"\""
      ]
     },
     "execution_count": 4,
     "metadata": {},
     "output_type": "execute_result"
    }
   ],
   "source": [
    "res.summary()"
   ]
  },
  {
   "cell_type": "markdown",
   "id": "7b86ef38-48f5-46a9-bf06-2d309664e307",
   "metadata": {},
   "source": [
    "After fitting, clean dataframe."
   ]
  },
  {
   "cell_type": "code",
   "execution_count": 5,
   "id": "e1b9768c-b9b2-45dc-b6bb-2560a1c6bb8e",
   "metadata": {},
   "outputs": [],
   "source": [
    "order = [\"age\", \"sex\", \"embark_town\"]\n",
    "cont_cols = [\"age\"]\n",
    "categorical = {\"embark_town\": ['Southampton', 'Cherbourg', 'Queenstown']}\n",
    "df_sum = mfp.statsmodels_pretty_result_dataframe(titanic, res, \n",
    "                                                 order=order, \n",
    "                                                 cont_cols=cont_cols, \n",
    "                                                 fml=\".3f\", \n",
    "                                                 )"
   ]
  },
  {
   "cell_type": "code",
   "execution_count": 6,
   "id": "9c7e735b-c6bc-4108-af19-616df53c3391",
   "metadata": {},
   "outputs": [
    {
     "data": {
      "text/html": [
       "<div>\n",
       "<style scoped>\n",
       "    .dataframe tbody tr th:only-of-type {\n",
       "        vertical-align: middle;\n",
       "    }\n",
       "\n",
       "    .dataframe tbody tr th {\n",
       "        vertical-align: top;\n",
       "    }\n",
       "\n",
       "    .dataframe thead th {\n",
       "        text-align: right;\n",
       "    }\n",
       "</style>\n",
       "<table border=\"1\" class=\"dataframe\">\n",
       "  <thead>\n",
       "    <tr style=\"text-align: right;\">\n",
       "      <th></th>\n",
       "      <th>category</th>\n",
       "      <th>item</th>\n",
       "      <th>0</th>\n",
       "      <th>1</th>\n",
       "      <th>risk</th>\n",
       "      <th>nobs</th>\n",
       "      <th>risk_pretty</th>\n",
       "    </tr>\n",
       "  </thead>\n",
       "  <tbody>\n",
       "    <tr>\n",
       "      <th>3</th>\n",
       "      <td>age</td>\n",
       "      <td>age</td>\n",
       "      <td>0.979300</td>\n",
       "      <td>1.004771</td>\n",
       "      <td>0.991954</td>\n",
       "      <td>NaN</td>\n",
       "      <td>0.99 (0.98, 1.00)</td>\n",
       "    </tr>\n",
       "    <tr>\n",
       "      <th>0</th>\n",
       "      <td>sex</td>\n",
       "      <td>male</td>\n",
       "      <td>0.057848</td>\n",
       "      <td>0.122213</td>\n",
       "      <td>0.084082</td>\n",
       "      <td>453.0</td>\n",
       "      <td>0.08 (0.06, 0.12)</td>\n",
       "    </tr>\n",
       "    <tr>\n",
       "      <th>4</th>\n",
       "      <td>sex</td>\n",
       "      <td>female</td>\n",
       "      <td>NaN</td>\n",
       "      <td>NaN</td>\n",
       "      <td>NaN</td>\n",
       "      <td>259.0</td>\n",
       "      <td>Ref.</td>\n",
       "    </tr>\n",
       "    <tr>\n",
       "      <th>1</th>\n",
       "      <td>embark_town</td>\n",
       "      <td>Queenstown</td>\n",
       "      <td>0.057027</td>\n",
       "      <td>0.464428</td>\n",
       "      <td>0.162742</td>\n",
       "      <td>28.0</td>\n",
       "      <td>0.16 (0.06, 0.46)</td>\n",
       "    </tr>\n",
       "    <tr>\n",
       "      <th>2</th>\n",
       "      <td>embark_town</td>\n",
       "      <td>Southampton</td>\n",
       "      <td>0.229654</td>\n",
       "      <td>0.581167</td>\n",
       "      <td>0.365332</td>\n",
       "      <td>554.0</td>\n",
       "      <td>0.37 (0.23, 0.58)</td>\n",
       "    </tr>\n",
       "    <tr>\n",
       "      <th>5</th>\n",
       "      <td>embark_town</td>\n",
       "      <td>Cherbourg</td>\n",
       "      <td>NaN</td>\n",
       "      <td>NaN</td>\n",
       "      <td>NaN</td>\n",
       "      <td>130.0</td>\n",
       "      <td>Ref.</td>\n",
       "    </tr>\n",
       "  </tbody>\n",
       "</table>\n",
       "</div>"
      ],
      "text/plain": [
       "      category         item         0         1      risk   nobs  \\\n",
       "3          age          age  0.979300  1.004771  0.991954    NaN   \n",
       "0          sex         male  0.057848  0.122213  0.084082  453.0   \n",
       "4          sex       female       NaN       NaN       NaN  259.0   \n",
       "1  embark_town   Queenstown  0.057027  0.464428  0.162742   28.0   \n",
       "2  embark_town  Southampton  0.229654  0.581167  0.365332  554.0   \n",
       "5  embark_town    Cherbourg       NaN       NaN       NaN  130.0   \n",
       "\n",
       "         risk_pretty  \n",
       "3  0.99 (0.98, 1.00)  \n",
       "0  0.08 (0.06, 0.12)  \n",
       "4               Ref.  \n",
       "1  0.16 (0.06, 0.46)  \n",
       "2  0.37 (0.23, 0.58)  \n",
       "5               Ref.  "
      ]
     },
     "execution_count": 6,
     "metadata": {},
     "output_type": "execute_result"
    }
   ],
   "source": [
    "df_sum"
   ]
  },
  {
   "cell_type": "markdown",
   "id": "d72e1ffb-7581-4aca-9687-73edbdd3bbdc",
   "metadata": {},
   "source": [
    "The above type of dataframe structure is required. If you prepare dataframe like above, you do not need to use \"mfp.statsmodels_pretty_result_dataframe\"."
   ]
  },
  {
   "cell_type": "markdown",
   "id": "9d99ccfe-7e7a-495b-a3ca-a9eef3ec7002",
   "metadata": {},
   "source": [
    "## Create forestplot "
   ]
  },
  {
   "cell_type": "code",
   "execution_count": 7,
   "id": "213764ad-ff5e-4319-bd12-c80c151a22bf",
   "metadata": {},
   "outputs": [],
   "source": [
    "df = df_sum.copy()"
   ]
  },
  {
   "cell_type": "code",
   "execution_count": 8,
   "id": "de3c113a-cb84-47fc-b97e-d4a39c4298d2",
   "metadata": {},
   "outputs": [],
   "source": [
    "df[\"xerr_lower\"] = df[\"risk\"] - df[0]\n",
    "df[\"xerr_upper\"] = df[1] - df[\"risk\"]\n",
    "df[\"nobs\"] = (df[\"nobs\"]\n",
    "              .replace(np.nan, titanic.shape[0])\n",
    "              .astype(int)\n",
    "              )"
   ]
  },
  {
   "cell_type": "code",
   "execution_count": 9,
   "id": "eda4d8d9-79eb-403a-ac87-293bed4b5a7a",
   "metadata": {},
   "outputs": [
    {
     "data": {
      "image/png": "[encoded data removed]",
      "text/plain": [
       "<Figure size 1050x450 with 2 Axes>"
      ]
     },
     "metadata": {
      "needs_background": "light"
     },
     "output_type": "display_data"
    }
   ],
   "source": [
    "plt.rcParams[\"font.size\"] = 8\n",
    "fp = mfp.BaseForestplot(ratio=(8,3), dpi=150, figsize=(7,3), df=df)\n",
    "fp.errorbar(errorbar_kwds=None)\n",
    "fp.ax2.set_xlim([0, 1.5])\n",
    "fp.ax2.set_xticks([0, 0.5, 1, 1.5])\n",
    "fp.ax2.set_xticklabels([0, 0.5, 1, 1.5])\n",
    "fp.ax2.set_xlabel(\"OR\")\n",
    "fp.ax2.axvline(x=1, ymin=0, ymax=1.0, color=\"black\", alpha=0.5)\n",
    "\n",
    "fp.ax1.set_xlim([0.1, 1])\n",
    "fp.embed_strings(\"category\", 0.1, header=\"Category\", \n",
    "                 duplicate_hide=True, \n",
    "                 text_kwds=dict(fontweight=\"bold\"),\n",
    "                 header_kwds=dict(fontweight=\"bold\")\n",
    "                 )\n",
    "fp.embed_strings(\"item\", 0.36, header=\"\", replace={\"age\":\"\"})\n",
    "fp.embed_strings(\"nobs\", 0.60, header=\"N\")\n",
    "fp.embed_strings(\"risk_pretty\", 0.72, header=\"OR (95% CI)\")\n",
    "fp.horizontal_variable_separators()\n",
    "plt.show()"
   ]
  },
  {
   "cell_type": "markdown",
   "id": "3a5fdccc-c408-46c7-84a5-9371aa148aa6",
   "metadata": {},
   "source": [
    "Since this figure does not include all the participants rows, let's include that. "
   ]
  },
  {
   "cell_type": "code",
   "execution_count": 10,
   "id": "18ffe830-7efb-433f-bd00-c6e6619589f3",
   "metadata": {},
   "outputs": [
    {
     "data": {
      "image/png": "[encoded data removed]",
      "text/plain": [
       "<Figure size 1050x450 with 2 Axes>"
      ]
     },
     "metadata": {
      "needs_background": "light"
     },
     "output_type": "display_data"
    }
   ],
   "source": [
    "fontsize = 8\n",
    "fp = mfp.BaseForestplot(ratio=(8,3), dpi=150, figsize=(7,3), df=df)\n",
    "fp.errorbar(errorbar_kwds=None)\n",
    "fp.ax2.set_xlim([0, 1.5])\n",
    "fp.ax2.set_xticks([0, 0.5, 1, 1.5])\n",
    "fp.ax2.axvline(x=1, ymin=0, ymax=1.0, color=\"black\", alpha=0.5)\n",
    "fp.ax2.set_xticks([0, 0.5, 1, 1.5])\n",
    "fp.ax2.set_xticklabels([0, 0.5, 1, 1.5], fontsize=fontsize)\n",
    "fp.ax2.set_xlabel(\"OR\", fontsize=fontsize)\n",
    "\n",
    "fp.ax1.set_xlim([0.1, 1])\n",
    "y_header = 1.5\n",
    "fp.embed_strings(\"category\", 0.1, header=\"Category\", fontsize=fontsize, \n",
    "                 duplicate_hide=True, \n",
    "                 text_kwds=dict(fontweight=\"bold\"),\n",
    "                 header_kwds=dict(fontweight=\"bold\"),\n",
    "                 y_header=1.5\n",
    "                 )\n",
    "fp.ax1.text(0.10, 0.8, \"All participants\", fontweight=\"bold\", fontsize=fontsize)\n",
    "fp.embed_strings(\"item\", 0.36, header=\"\", fontsize=fontsize, replace={\"age\":\"\"},\n",
    "                 y_header=1.5)\n",
    "fp.embed_strings(\"nobs\", 0.60, header=\"N\", fontsize=fontsize,\n",
    "                 y_header=1.5)\n",
    "fp.ax1.text(0.60, 0.8, \"712\", fontsize=fontsize)\n",
    "fp.embed_strings(\"risk_pretty\", 0.72, header=\"OR (95% CI)\", fontsize=fontsize,\n",
    "                 y_header=1.5)\n",
    "fp.horizontal_variable_separators()\n",
    "plt.show()"
   ]
  },
  {
   "cell_type": "code",
   "execution_count": null,
   "id": "c469a8e8-e9b9-4598-8d20-ef0d0aaed11a",
   "metadata": {},
   "outputs": [],
   "source": []
  }
 ],
 "metadata": {
  "kernelspec": {
   "display_name": "Python 3 (ipykernel)",
   "language": "python",
   "name": "python3"
  },
  "language_info": {
   "codemirror_mode": {
    "name": "ipython",
    "version": 3
   },
   "file_extension": ".py",
   "mimetype": "text/x-python",
   "name": "python",
   "nbconvert_exporter": "python",
   "pygments_lexer": "ipython3",
   "version": "3.9.7"
  }
 },
 "nbformat": 4,
 "nbformat_minor": 5
}
